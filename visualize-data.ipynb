{
 "cells": [
  {
   "cell_type": "code",
   "execution_count": 3,
   "metadata": {
    "collapsed": true,
    "pycharm": {
     "name": "#%%\n"
    }
   },
   "outputs": [
    {
     "data": {
      "text/plain": "   download  upload                        date\n0     12.47    6.47  2022-07-06 17:55:44.743254\n1     13.34    6.81  2022-07-06 17:58:45.046146\n2     15.91    7.22  2022-07-06 17:59:48.943157\n3     14.10    7.18  2022-07-06 18:00:49.385292\n4     11.95    6.25  2022-07-06 18:01:44.345845",
      "text/html": "<div>\n<style scoped>\n    .dataframe tbody tr th:only-of-type {\n        vertical-align: middle;\n    }\n\n    .dataframe tbody tr th {\n        vertical-align: top;\n    }\n\n    .dataframe thead th {\n        text-align: right;\n    }\n</style>\n<table border=\"1\" class=\"dataframe\">\n  <thead>\n    <tr style=\"text-align: right;\">\n      <th></th>\n      <th>download</th>\n      <th>upload</th>\n      <th>date</th>\n    </tr>\n  </thead>\n  <tbody>\n    <tr>\n      <th>0</th>\n      <td>12.47</td>\n      <td>6.47</td>\n      <td>2022-07-06 17:55:44.743254</td>\n    </tr>\n    <tr>\n      <th>1</th>\n      <td>13.34</td>\n      <td>6.81</td>\n      <td>2022-07-06 17:58:45.046146</td>\n    </tr>\n    <tr>\n      <th>2</th>\n      <td>15.91</td>\n      <td>7.22</td>\n      <td>2022-07-06 17:59:48.943157</td>\n    </tr>\n    <tr>\n      <th>3</th>\n      <td>14.10</td>\n      <td>7.18</td>\n      <td>2022-07-06 18:00:49.385292</td>\n    </tr>\n    <tr>\n      <th>4</th>\n      <td>11.95</td>\n      <td>6.25</td>\n      <td>2022-07-06 18:01:44.345845</td>\n    </tr>\n  </tbody>\n</table>\n</div>"
     },
     "execution_count": 3,
     "metadata": {},
     "output_type": "execute_result"
    }
   ],
   "source": [
    "import pandas as pd\n",
    "\n",
    "\n",
    "DATA_SOURCE_PATH = 'mock.csv'\n",
    "\n",
    "df = pd.read_csv(DATA_SOURCE_PATH)\n",
    "df.head()"
   ]
  },
  {
   "cell_type": "code",
   "execution_count": 10,
   "outputs": [
    {
     "data": {
      "text/plain": "          download       upload\ncount  8565.000000  8565.000000\nmean     23.940957     6.815101\nstd      70.160011     0.802993\nmin       1.000000     1.380000\n25%      11.690000     6.770000\n50%      17.000000     7.120000\n75%      22.020000     7.260000\nmax    1014.820000    12.190000",
      "text/html": "<div>\n<style scoped>\n    .dataframe tbody tr th:only-of-type {\n        vertical-align: middle;\n    }\n\n    .dataframe tbody tr th {\n        vertical-align: top;\n    }\n\n    .dataframe thead th {\n        text-align: right;\n    }\n</style>\n<table border=\"1\" class=\"dataframe\">\n  <thead>\n    <tr style=\"text-align: right;\">\n      <th></th>\n      <th>download</th>\n      <th>upload</th>\n    </tr>\n  </thead>\n  <tbody>\n    <tr>\n      <th>count</th>\n      <td>8565.000000</td>\n      <td>8565.000000</td>\n    </tr>\n    <tr>\n      <th>mean</th>\n      <td>23.940957</td>\n      <td>6.815101</td>\n    </tr>\n    <tr>\n      <th>std</th>\n      <td>70.160011</td>\n      <td>0.802993</td>\n    </tr>\n    <tr>\n      <th>min</th>\n      <td>1.000000</td>\n      <td>1.380000</td>\n    </tr>\n    <tr>\n      <th>25%</th>\n      <td>11.690000</td>\n      <td>6.770000</td>\n    </tr>\n    <tr>\n      <th>50%</th>\n      <td>17.000000</td>\n      <td>7.120000</td>\n    </tr>\n    <tr>\n      <th>75%</th>\n      <td>22.020000</td>\n      <td>7.260000</td>\n    </tr>\n    <tr>\n      <th>max</th>\n      <td>1014.820000</td>\n      <td>12.190000</td>\n    </tr>\n  </tbody>\n</table>\n</div>"
     },
     "execution_count": 10,
     "metadata": {},
     "output_type": "execute_result"
    }
   ],
   "source": [
    "df.describe()"
   ],
   "metadata": {
    "collapsed": false,
    "pycharm": {
     "name": "#%%\n"
    }
   }
  },
  {
   "cell_type": "code",
   "execution_count": 11,
   "outputs": [
    {
     "data": {
      "text/plain": "      download  upload                        date\n7977    117.20    3.02  2022-07-12 11:41:20.085307\n993     136.35    5.19  2022-07-07 10:50:07.820985\n2269    142.09    6.88  2022-07-08 09:48:03.817967\n1000    144.20    7.30  2022-07-07 10:57:14.633425\n1006    156.19    7.00  2022-07-07 11:03:14.656614\n...        ...     ...                         ...\n7872    968.66    6.59  2022-07-12 09:56:09.712071\n6557    976.82    6.43  2022-07-11 11:14:05.473350\n7857    986.56    4.90  2022-07-12 09:41:08.541055\n7937   1001.42    6.50  2022-07-12 11:01:14.331615\n2295   1014.82    6.95  2022-07-08 10:14:01.479883\n\n[114 rows x 3 columns]",
      "text/html": "<div>\n<style scoped>\n    .dataframe tbody tr th:only-of-type {\n        vertical-align: middle;\n    }\n\n    .dataframe tbody tr th {\n        vertical-align: top;\n    }\n\n    .dataframe thead th {\n        text-align: right;\n    }\n</style>\n<table border=\"1\" class=\"dataframe\">\n  <thead>\n    <tr style=\"text-align: right;\">\n      <th></th>\n      <th>download</th>\n      <th>upload</th>\n      <th>date</th>\n    </tr>\n  </thead>\n  <tbody>\n    <tr>\n      <th>7977</th>\n      <td>117.20</td>\n      <td>3.02</td>\n      <td>2022-07-12 11:41:20.085307</td>\n    </tr>\n    <tr>\n      <th>993</th>\n      <td>136.35</td>\n      <td>5.19</td>\n      <td>2022-07-07 10:50:07.820985</td>\n    </tr>\n    <tr>\n      <th>2269</th>\n      <td>142.09</td>\n      <td>6.88</td>\n      <td>2022-07-08 09:48:03.817967</td>\n    </tr>\n    <tr>\n      <th>1000</th>\n      <td>144.20</td>\n      <td>7.30</td>\n      <td>2022-07-07 10:57:14.633425</td>\n    </tr>\n    <tr>\n      <th>1006</th>\n      <td>156.19</td>\n      <td>7.00</td>\n      <td>2022-07-07 11:03:14.656614</td>\n    </tr>\n    <tr>\n      <th>...</th>\n      <td>...</td>\n      <td>...</td>\n      <td>...</td>\n    </tr>\n    <tr>\n      <th>7872</th>\n      <td>968.66</td>\n      <td>6.59</td>\n      <td>2022-07-12 09:56:09.712071</td>\n    </tr>\n    <tr>\n      <th>6557</th>\n      <td>976.82</td>\n      <td>6.43</td>\n      <td>2022-07-11 11:14:05.473350</td>\n    </tr>\n    <tr>\n      <th>7857</th>\n      <td>986.56</td>\n      <td>4.90</td>\n      <td>2022-07-12 09:41:08.541055</td>\n    </tr>\n    <tr>\n      <th>7937</th>\n      <td>1001.42</td>\n      <td>6.50</td>\n      <td>2022-07-12 11:01:14.331615</td>\n    </tr>\n    <tr>\n      <th>2295</th>\n      <td>1014.82</td>\n      <td>6.95</td>\n      <td>2022-07-08 10:14:01.479883</td>\n    </tr>\n  </tbody>\n</table>\n<p>114 rows × 3 columns</p>\n</div>"
     },
     "execution_count": 11,
     "metadata": {},
     "output_type": "execute_result"
    }
   ],
   "source": [
    "# filter data bigger than 100\n",
    "\n",
    "# Considering the overall average of the download speed, it's extremely unlikely that a user will have a download speed bigger than 100 MB/s.\n",
    "outliers = df[df['download'] > 100]\n",
    "\n",
    "print(f'There are {len(outliers)} outliers')\n",
    "\n",
    "# remove outliers from df\n",
    "clean_df =\n",
    "\n",
    "\n",
    "df[df['download'] > 100].sort_values(by='download')"
   ],
   "metadata": {
    "collapsed": false,
    "pycharm": {
     "name": "#%%\n"
    }
   }
  },
  {
   "cell_type": "markdown",
   "source": [
    "media de cada horario do dia (lineplot?)\n",
    "ontem\n",
    "overall average\n",
    "overall graph\n",
    "\n"
   ],
   "metadata": {
    "collapsed": false,
    "pycharm": {
     "name": "#%% md\n"
    }
   }
  }
 ],
 "metadata": {
  "kernelspec": {
   "display_name": "Python 3",
   "language": "python",
   "name": "python3"
  },
  "language_info": {
   "codemirror_mode": {
    "name": "ipython",
    "version": 2
   },
   "file_extension": ".py",
   "mimetype": "text/x-python",
   "name": "python",
   "nbconvert_exporter": "python",
   "pygments_lexer": "ipython2",
   "version": "2.7.6"
  }
 },
 "nbformat": 4,
 "nbformat_minor": 0
}