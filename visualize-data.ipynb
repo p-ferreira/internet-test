{
 "cells": [
  {
   "cell_type": "code",
   "execution_count": 2,
   "metadata": {
    "collapsed": true,
    "pycharm": {
     "name": "#%%\n"
    }
   },
   "outputs": [
    {
     "data": {
      "text/html": [
       "<div>\n",
       "<style scoped>\n",
       "    .dataframe tbody tr th:only-of-type {\n",
       "        vertical-align: middle;\n",
       "    }\n",
       "\n",
       "    .dataframe tbody tr th {\n",
       "        vertical-align: top;\n",
       "    }\n",
       "\n",
       "    .dataframe thead th {\n",
       "        text-align: right;\n",
       "    }\n",
       "</style>\n",
       "<table border=\"1\" class=\"dataframe\">\n",
       "  <thead>\n",
       "    <tr style=\"text-align: right;\">\n",
       "      <th></th>\n",
       "      <th>download</th>\n",
       "      <th>upload</th>\n",
       "      <th>date</th>\n",
       "    </tr>\n",
       "  </thead>\n",
       "  <tbody>\n",
       "    <tr>\n",
       "      <th>0</th>\n",
       "      <td>12.47</td>\n",
       "      <td>6.47</td>\n",
       "      <td>2022-07-06 17:55:44.743254</td>\n",
       "    </tr>\n",
       "    <tr>\n",
       "      <th>1</th>\n",
       "      <td>13.34</td>\n",
       "      <td>6.81</td>\n",
       "      <td>2022-07-06 17:58:45.046146</td>\n",
       "    </tr>\n",
       "    <tr>\n",
       "      <th>2</th>\n",
       "      <td>15.91</td>\n",
       "      <td>7.22</td>\n",
       "      <td>2022-07-06 17:59:48.943157</td>\n",
       "    </tr>\n",
       "    <tr>\n",
       "      <th>3</th>\n",
       "      <td>14.10</td>\n",
       "      <td>7.18</td>\n",
       "      <td>2022-07-06 18:00:49.385292</td>\n",
       "    </tr>\n",
       "    <tr>\n",
       "      <th>4</th>\n",
       "      <td>11.95</td>\n",
       "      <td>6.25</td>\n",
       "      <td>2022-07-06 18:01:44.345845</td>\n",
       "    </tr>\n",
       "  </tbody>\n",
       "</table>\n",
       "</div>"
      ],
      "text/plain": [
       "   download  upload                        date\n",
       "0     12.47    6.47  2022-07-06 17:55:44.743254\n",
       "1     13.34    6.81  2022-07-06 17:58:45.046146\n",
       "2     15.91    7.22  2022-07-06 17:59:48.943157\n",
       "3     14.10    7.18  2022-07-06 18:00:49.385292\n",
       "4     11.95    6.25  2022-07-06 18:01:44.345845"
      ]
     },
     "execution_count": 2,
     "metadata": {},
     "output_type": "execute_result"
    }
   ],
   "source": [
    "import pandas as pd\n",
    "\n",
    "\n",
    "DATA_SOURCE_PATH = 'mock.csv'\n",
    "\n",
    "df = pd.read_csv(DATA_SOURCE_PATH)\n",
    "df.head()"
   ]
  },
  {
   "cell_type": "code",
   "execution_count": 3,
   "metadata": {
    "collapsed": false,
    "pycharm": {
     "name": "#%%\n"
    }
   },
   "outputs": [
    {
     "data": {
      "text/html": [
       "<div>\n",
       "<style scoped>\n",
       "    .dataframe tbody tr th:only-of-type {\n",
       "        vertical-align: middle;\n",
       "    }\n",
       "\n",
       "    .dataframe tbody tr th {\n",
       "        vertical-align: top;\n",
       "    }\n",
       "\n",
       "    .dataframe thead th {\n",
       "        text-align: right;\n",
       "    }\n",
       "</style>\n",
       "<table border=\"1\" class=\"dataframe\">\n",
       "  <thead>\n",
       "    <tr style=\"text-align: right;\">\n",
       "      <th></th>\n",
       "      <th>download</th>\n",
       "      <th>upload</th>\n",
       "    </tr>\n",
       "  </thead>\n",
       "  <tbody>\n",
       "    <tr>\n",
       "      <th>count</th>\n",
       "      <td>8565.000000</td>\n",
       "      <td>8565.000000</td>\n",
       "    </tr>\n",
       "    <tr>\n",
       "      <th>mean</th>\n",
       "      <td>23.940957</td>\n",
       "      <td>6.815101</td>\n",
       "    </tr>\n",
       "    <tr>\n",
       "      <th>std</th>\n",
       "      <td>70.160011</td>\n",
       "      <td>0.802993</td>\n",
       "    </tr>\n",
       "    <tr>\n",
       "      <th>min</th>\n",
       "      <td>1.000000</td>\n",
       "      <td>1.380000</td>\n",
       "    </tr>\n",
       "    <tr>\n",
       "      <th>25%</th>\n",
       "      <td>11.690000</td>\n",
       "      <td>6.770000</td>\n",
       "    </tr>\n",
       "    <tr>\n",
       "      <th>50%</th>\n",
       "      <td>17.000000</td>\n",
       "      <td>7.120000</td>\n",
       "    </tr>\n",
       "    <tr>\n",
       "      <th>75%</th>\n",
       "      <td>22.020000</td>\n",
       "      <td>7.260000</td>\n",
       "    </tr>\n",
       "    <tr>\n",
       "      <th>max</th>\n",
       "      <td>1014.820000</td>\n",
       "      <td>12.190000</td>\n",
       "    </tr>\n",
       "  </tbody>\n",
       "</table>\n",
       "</div>"
      ],
      "text/plain": [
       "          download       upload\n",
       "count  8565.000000  8565.000000\n",
       "mean     23.940957     6.815101\n",
       "std      70.160011     0.802993\n",
       "min       1.000000     1.380000\n",
       "25%      11.690000     6.770000\n",
       "50%      17.000000     7.120000\n",
       "75%      22.020000     7.260000\n",
       "max    1014.820000    12.190000"
      ]
     },
     "execution_count": 3,
     "metadata": {},
     "output_type": "execute_result"
    }
   ],
   "source": [
    "df.describe()"
   ]
  },
  {
   "cell_type": "code",
   "execution_count": 31,
   "metadata": {
    "collapsed": false,
    "pycharm": {
     "name": "#%%\n"
    }
   },
   "outputs": [
    {
     "name": "stdout",
     "output_type": "stream",
     "text": [
      "There are 120 outliers\n"
     ]
    }
   ],
   "source": [
    "# filter data bigger than 100\n",
    "\n",
    "# Considering the overall average of the download speed, it's extremely unlikely that a user will have a download speed bigger than 100 MB/s.\n",
    "outliers = df[df['download'] > 50]\n",
    "\n",
    "print(f'There are {len(outliers)} outliers')\n",
    "\n",
    "# remove outliers from df\n",
    "clean_df = df[df['download'] < 50].sort_values(by='download')"
   ]
  },
  {
   "cell_type": "code",
   "execution_count": 32,
   "metadata": {},
   "outputs": [
    {
     "data": {
      "text/html": [
       "<div>\n",
       "<style scoped>\n",
       "    .dataframe tbody tr th:only-of-type {\n",
       "        vertical-align: middle;\n",
       "    }\n",
       "\n",
       "    .dataframe tbody tr th {\n",
       "        vertical-align: top;\n",
       "    }\n",
       "\n",
       "    .dataframe thead th {\n",
       "        text-align: right;\n",
       "    }\n",
       "</style>\n",
       "<table border=\"1\" class=\"dataframe\">\n",
       "  <thead>\n",
       "    <tr style=\"text-align: right;\">\n",
       "      <th></th>\n",
       "      <th>download</th>\n",
       "      <th>upload</th>\n",
       "    </tr>\n",
       "  </thead>\n",
       "  <tbody>\n",
       "    <tr>\n",
       "      <th>count</th>\n",
       "      <td>8445.000000</td>\n",
       "      <td>8445.000000</td>\n",
       "    </tr>\n",
       "    <tr>\n",
       "      <th>mean</th>\n",
       "      <td>16.492744</td>\n",
       "      <td>6.830407</td>\n",
       "    </tr>\n",
       "    <tr>\n",
       "      <th>std</th>\n",
       "      <td>7.339739</td>\n",
       "      <td>0.773229</td>\n",
       "    </tr>\n",
       "    <tr>\n",
       "      <th>min</th>\n",
       "      <td>1.000000</td>\n",
       "      <td>1.380000</td>\n",
       "    </tr>\n",
       "    <tr>\n",
       "      <th>25%</th>\n",
       "      <td>11.570000</td>\n",
       "      <td>6.780000</td>\n",
       "    </tr>\n",
       "    <tr>\n",
       "      <th>50%</th>\n",
       "      <td>16.860000</td>\n",
       "      <td>7.120000</td>\n",
       "    </tr>\n",
       "    <tr>\n",
       "      <th>75%</th>\n",
       "      <td>21.770000</td>\n",
       "      <td>7.260000</td>\n",
       "    </tr>\n",
       "    <tr>\n",
       "      <th>max</th>\n",
       "      <td>40.990000</td>\n",
       "      <td>12.190000</td>\n",
       "    </tr>\n",
       "  </tbody>\n",
       "</table>\n",
       "</div>"
      ],
      "text/plain": [
       "          download       upload\n",
       "count  8445.000000  8445.000000\n",
       "mean     16.492744     6.830407\n",
       "std       7.339739     0.773229\n",
       "min       1.000000     1.380000\n",
       "25%      11.570000     6.780000\n",
       "50%      16.860000     7.120000\n",
       "75%      21.770000     7.260000\n",
       "max      40.990000    12.190000"
      ]
     },
     "execution_count": 32,
     "metadata": {},
     "output_type": "execute_result"
    }
   ],
   "source": [
    "clean_df.describe()"
   ]
  },
  {
   "cell_type": "markdown",
   "metadata": {},
   "source": [
    "Overall Average: 16.53mb"
   ]
  },
  {
   "cell_type": "code",
   "execution_count": 55,
   "metadata": {},
   "outputs": [
    {
     "data": {
      "text/html": [
       "<div>\n",
       "<style scoped>\n",
       "    .dataframe tbody tr th:only-of-type {\n",
       "        vertical-align: middle;\n",
       "    }\n",
       "\n",
       "    .dataframe tbody tr th {\n",
       "        vertical-align: top;\n",
       "    }\n",
       "\n",
       "    .dataframe thead th {\n",
       "        text-align: right;\n",
       "    }\n",
       "</style>\n",
       "<table border=\"1\" class=\"dataframe\">\n",
       "  <thead>\n",
       "    <tr style=\"text-align: right;\">\n",
       "      <th></th>\n",
       "      <th>download</th>\n",
       "      <th>upload</th>\n",
       "      <th>date</th>\n",
       "      <th>day</th>\n",
       "      <th>hour</th>\n",
       "      <th>day_name</th>\n",
       "      <th>short_date</th>\n",
       "    </tr>\n",
       "  </thead>\n",
       "  <tbody>\n",
       "    <tr>\n",
       "      <th>0</th>\n",
       "      <td>12.47</td>\n",
       "      <td>6.47</td>\n",
       "      <td>2022-07-06 17:55:44.743254</td>\n",
       "      <td>6</td>\n",
       "      <td>17</td>\n",
       "      <td>Wednesday</td>\n",
       "      <td>07-06</td>\n",
       "    </tr>\n",
       "    <tr>\n",
       "      <th>1</th>\n",
       "      <td>13.34</td>\n",
       "      <td>6.81</td>\n",
       "      <td>2022-07-06 17:58:45.046146</td>\n",
       "      <td>6</td>\n",
       "      <td>17</td>\n",
       "      <td>Wednesday</td>\n",
       "      <td>07-06</td>\n",
       "    </tr>\n",
       "    <tr>\n",
       "      <th>2</th>\n",
       "      <td>15.91</td>\n",
       "      <td>7.22</td>\n",
       "      <td>2022-07-06 17:59:48.943157</td>\n",
       "      <td>6</td>\n",
       "      <td>17</td>\n",
       "      <td>Wednesday</td>\n",
       "      <td>07-06</td>\n",
       "    </tr>\n",
       "    <tr>\n",
       "      <th>3</th>\n",
       "      <td>14.10</td>\n",
       "      <td>7.18</td>\n",
       "      <td>2022-07-06 18:00:49.385292</td>\n",
       "      <td>6</td>\n",
       "      <td>18</td>\n",
       "      <td>Wednesday</td>\n",
       "      <td>07-06</td>\n",
       "    </tr>\n",
       "    <tr>\n",
       "      <th>4</th>\n",
       "      <td>11.95</td>\n",
       "      <td>6.25</td>\n",
       "      <td>2022-07-06 18:01:44.345845</td>\n",
       "      <td>6</td>\n",
       "      <td>18</td>\n",
       "      <td>Wednesday</td>\n",
       "      <td>07-06</td>\n",
       "    </tr>\n",
       "  </tbody>\n",
       "</table>\n",
       "</div>"
      ],
      "text/plain": [
       "   download  upload                        date  day  hour   day_name  \\\n",
       "0     12.47    6.47  2022-07-06 17:55:44.743254    6    17  Wednesday   \n",
       "1     13.34    6.81  2022-07-06 17:58:45.046146    6    17  Wednesday   \n",
       "2     15.91    7.22  2022-07-06 17:59:48.943157    6    17  Wednesday   \n",
       "3     14.10    7.18  2022-07-06 18:00:49.385292    6    18  Wednesday   \n",
       "4     11.95    6.25  2022-07-06 18:01:44.345845    6    18  Wednesday   \n",
       "\n",
       "  short_date  \n",
       "0     07-06   \n",
       "1     07-06   \n",
       "2     07-06   \n",
       "3     07-06   \n",
       "4     07-06   "
      ]
     },
     "execution_count": 55,
     "metadata": {},
     "output_type": "execute_result"
    }
   ],
   "source": [
    "from dateutil import parser\n",
    "\n",
    "str(parser.parse(clean_df['date'][0]).date())\n",
    "\n",
    "# pd.to_datetime(clean_df['date'][0]).day_name()\n",
    "\n",
    "# add day and hour label to facilitate grouping\n",
    "clean_df['day'] = clean_df['date'].apply(lambda d: parser.parse(d).day)\n",
    "clean_df['day_name'] = clean_df['date'].apply(lambda d: pd.to_datetime(d).day_name())\n",
    "clean_df['hour'] = clean_df['date'].apply(lambda d: parser.parse(d).hour)\n",
    "clean_df['short_date'] = clean_df['date'].apply(lambda d: d[5:11])\n",
    "clean_df.sort_values('date', inplace=True)\n",
    "clean_df.head()\n"
   ]
  },
  {
   "cell_type": "code",
   "execution_count": 66,
   "metadata": {},
   "outputs": [
    {
     "data": {
      "text/plain": [
       "<AxesSubplot:xlabel='short_date', ylabel='download'>"
      ]
     },
     "execution_count": 66,
     "metadata": {},
     "output_type": "execute_result"
    },
    {
     "data": {
      "image/png": "[encoded data removed]",
      "text/plain": [
       "<Figure size 1152x720 with 1 Axes>"
      ]
     },
     "metadata": {
      "needs_background": "light"
     },
     "output_type": "display_data"
    }
   ],
   "source": [
    "import seaborn as sns\n",
    "import matplotlib.pyplot as plt\n",
    "\n",
    "plt.figure(figsize=(16,10))\n",
    "sns.boxplot(x='short_date', y='download', data=clean_df)"
   ]
  },
  {
   "cell_type": "code",
   "execution_count": 74,
   "metadata": {},
   "outputs": [
    {
     "data": {
      "text/plain": [
       "[<matplotlib.axis.XTick at 0x224bdf3bb50>,\n",
       " <matplotlib.axis.XTick at 0x224bdf3bb20>,\n",
       " <matplotlib.axis.XTick at 0x224bdf5bc70>,\n",
       " <matplotlib.axis.XTick at 0x224bdf72310>,\n",
       " <matplotlib.axis.XTick at 0x224bdf72a00>,\n",
       " <matplotlib.axis.XTick at 0x224bdf72520>,\n",
       " <matplotlib.axis.XTick at 0x224bdf79250>,\n",
       " <matplotlib.axis.XTick at 0x224bdf3b250>,\n",
       " <matplotlib.axis.XTick at 0x224bdf8ed90>,\n",
       " <matplotlib.axis.XTick at 0x224bdf944c0>,\n",
       " <matplotlib.axis.XTick at 0x224bdf8ec10>,\n",
       " <matplotlib.axis.XTick at 0x224bdf82d30>,\n",
       " <matplotlib.axis.XTick at 0x224bdf94af0>,\n",
       " <matplotlib.axis.XTick at 0x224bdf94e50>,\n",
       " <matplotlib.axis.XTick at 0x224bdf9c5e0>,\n",
       " <matplotlib.axis.XTick at 0x224bdf9cd30>,\n",
       " <matplotlib.axis.XTick at 0x224bdfa14c0>,\n",
       " <matplotlib.axis.XTick at 0x224bdf9c9d0>,\n",
       " <matplotlib.axis.XTick at 0x224bdf79c40>,\n",
       " <matplotlib.axis.XTick at 0x224bdfa1250>,\n",
       " <matplotlib.axis.XTick at 0x224bdfa3040>,\n",
       " <matplotlib.axis.XTick at 0x224bdfa3790>,\n",
       " <matplotlib.axis.XTick at 0x224bdfaf070>,\n",
       " <matplotlib.axis.XTick at 0x224bdfaf670>]"
      ]
     },
     "execution_count": 74,
     "metadata": {},
     "output_type": "execute_result"
    },
    {
     "data": {
      "image/png": "[encoded data removed]",
      "text/plain": [
       "<Figure size 1152x432 with 1 Axes>"
      ]
     },
     "metadata": {
      "needs_background": "light"
     },
     "output_type": "display_data"
    }
   ],
   "source": [
    "plt.figure(figsize=(16,6))\n",
    "group_by_hour = clean_df.groupby('hour').mean()\n",
    "ax = sns.lineplot(x='hour', y='download', data=group_by_hour)\n",
    "ax.set_xticks(range(len(group_by_hour)), labels=range(0, 24))"
   ]
  },
  {
   "cell_type": "markdown",
   "metadata": {},
   "source": [
    "media de cada horario do dia (lineplot?)\n",
    "ontem\n",
    "overall average\n",
    "overall graph (grouped average by hour)\n",
    "boxplot (average by day)\n",
    "\n",
    "\n"
   ]
  },
  {
   "cell_type": "code",
   "execution_count": 81,
   "metadata": {},
   "outputs": [
    {
     "data": {
      "text/plain": [
       "<AxesSubplot:>"
      ]
     },
     "execution_count": 81,
     "metadata": {},
     "output_type": "execute_result"
    },
    {
     "data": {
      "image/png": "[encoded data removed]",
      "text/plain": [
       "<Figure size 1152x432 with 1 Axes>"
      ]
     },
     "metadata": {
      "needs_background": "light"
     },
     "output_type": "display_data"
    }
   ],
   "source": [
    "plt.figure(figsize=(16,6))\n",
    "clean_df['download'].plot()"
   ]
  },
  {
   "cell_type": "code",
   "execution_count": null,
   "metadata": {},
   "outputs": [],
   "source": [
    "/"
   ]
  }
 ],
 "metadata": {
  "kernelspec": {
   "display_name": "Python 3.9.12 ('base')",
   "language": "python",
   "name": "python3"
  },
  "language_info": {
   "codemirror_mode": {
    "name": "ipython",
    "version": 3
   },
   "file_extension": ".py",
   "mimetype": "text/x-python",
   "name": "python",
   "nbconvert_exporter": "python",
   "pygments_lexer": "ipython3",
   "version": "3.9.12"
  },
  "vscode": {
   "interpreter": {
    "hash": "d5a060a823ebfc0a46fed09e5d4d49b6552270a7dac258bcadf0308cb8ded9d9"
   }
  }
 },
 "nbformat": 4,
 "nbformat_minor": 0
}
